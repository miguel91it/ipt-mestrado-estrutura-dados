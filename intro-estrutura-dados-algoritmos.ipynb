{
  "nbformat": 4,
  "nbformat_minor": 0,
  "metadata": {
    "colab": {
      "name": "Untitled1.ipynb",
      "provenance": [],
      "collapsed_sections": [],
      "toc_visible": true,
      "mount_file_id": "https://github.com/miguel91it/ipt-mestrado-estrutura-dados/blob/master/Untitled1.ipynb",
      "authorship_tag": "ABX9TyMZTbGdJV7VeW6JivVtPAEA",
      "include_colab_link": true
    },
    "kernelspec": {
      "name": "python3",
      "display_name": "Python 3"
    }
  },
  "cells": [
    {
      "cell_type": "markdown",
      "metadata": {
        "id": "view-in-github",
        "colab_type": "text"
      },
      "source": [
        "<a href=\"https://colab.research.google.com/github/miguel91it/ipt-mestrado-estrutura-dados/blob/master/intro-estrutura-dados-algoritmos.ipynb\" target=\"_parent\"><img src=\"https://colab.research.google.com/assets/colab-badge.svg\" alt=\"Open In Colab\"/></a>"
      ]
    },
    {
      "cell_type": "markdown",
      "metadata": {
        "id": "NhN2gVGptROh",
        "colab_type": "text"
      },
      "source": [
        "# Introdução à Estrutura de Dados e Algoritmos"
      ]
    },
    {
      "cell_type": "markdown",
      "metadata": {
        "id": "9YbtXH6WT2Ma",
        "colab_type": "text"
      },
      "source": [
        "*Material elaborado pelo aluno João Miguel M. F. Lima do Curso de Mestrado em Computação Aplicada do Instituto de Pesquisas Tecnológicas de São Paulo.*\n",
        "\n",
        "**# Algoritmos**\n",
        "\n",
        "Algoritmo é, de forma simplista, um procedimento computacional que recebe um valor ou conjunto de valores como entrada e produz um valor ou conjunto de valores como saída. Esse procedimento computacional é composto de etapas bem definidas e ordenadas que transformam informações de entrada em informações de saída. \n",
        "\n",
        "**# Estrutura de Dados**\n",
        "\n",
        "Uma estrutura de dados é um modo de armazenar e organizar dados com a finalidade de facilitar o acesso e modificações nesses dados.\n",
        "\n",
        "**# Problemas Difíceis P, NP, NP-completo, ...**\n",
        "\n",
        "Completar esse tópico posteriormente\n",
        "\n",
        "**# Limitações Técnicas para execução de Algoritmos**\n",
        "\n",
        "Tempo e Espaço são dois fatores que determinam a eficiência dos algoritmos.\n",
        "\n",
        "O algoritmo, quando executado, consome um certo tempo entre o início e o fim e consome, também, um determinado espaço para armazenar dados gerados ao longo das etapas.\n",
        "\n",
        "Por isso, essas são, além da corretude da saída, as duas principais variáveis que determinam a eficiência dos algoritmos.\n",
        "\n",
        "É necessário descobrir a complexidade temporal e de espaço consumido para determinar sua eficiência.\n"
      ]
    },
    {
      "cell_type": "markdown",
      "metadata": {
        "id": "94xtiyr9sSK8",
        "colab_type": "text"
      },
      "source": [
        "# Problema de Busca\n",
        "\n",
        "Dado um inteiro x e um vetor v[0..n − 1] de inteiros, o problema de\n",
        "busca consiste em encontrar x em v, ou seja, encontrar um índice\n",
        "k tal que v[k] = x.\n",
        "\n",
        "**Pseudocódigo Busca Iterativa**\n",
        "\n",
        "> buscaSequencialIterativa (x, v[0..n-1], n)\n",
        "1. k = n - 1\n",
        "2. enquanto (k ≥ 0 e v[k] != x) faça\n",
        "3. k = k - 1\n",
        "4. retorna k"
      ]
    },
    {
      "cell_type": "code",
      "metadata": {
        "id": "WjSFXqZPUm0l",
        "colab_type": "code",
        "colab": {}
      },
      "source": [
        "def buscaSequencialIterativa(x, vetor, n):\n",
        "  \n",
        "  # inicia a busca do fim para o inicio do vetor\n",
        "  k = n - 1\n",
        "\n",
        "  # a cada passo verifica se o índice k é positivo e se o elemento do vetor \n",
        "  # desse índice k é diferente de x\n",
        "  while k >= 0 and vetor[k] != x:\n",
        "    \n",
        "    # reduz o índice k em uma unidade\n",
        "    k = k - 1\n",
        "\n",
        "  # retorna o índice k se encontrar x na posição k do vetor ou\n",
        "  # -1 se nunca encontrar x\n",
        "  return k"
      ],
      "execution_count": 1,
      "outputs": []
    },
    {
      "cell_type": "code",
      "metadata": {
        "id": "4uuYH6cq2hqh",
        "colab_type": "code",
        "colab": {
          "base_uri": "https://localhost:8080/",
          "height": 52
        },
        "outputId": "2fd6cc88-8d70-479d-9082-5e1b2b348221"
      },
      "source": [
        "# cria vetor com inteiros quaisquer\n",
        "vetor = [21, 4, 67, 8, 57, 90, 31]\n",
        "\n",
        "n = len(vetor)\n",
        "\n",
        "# cria um vetor com inteiros a serem pesquisador em 'vetor' e que não existem lá\n",
        "vetorInexistente = [-10, -5, 0, 1, 32, 66]\n",
        "\n",
        "# realiza busca de cada inteiro de vetor no proprio vetor (tem que retornar os índices, é um teste para dar certo)\n",
        "indices = [buscaSequencialIterativa(x, vetor, n) for x in vetor]\n",
        "\n",
        "# realiza busca de cada inteiro não existente em vetor (é um teste para dar tudo -1)\n",
        "indicesNaoEncontrados = [buscaSequencialIterativa(x, vetor, n) for x in vetorInexistente]\n",
        "\n",
        "print(f'Indices de todos elementos do proprio vetor: {indices}\\n\\\n",
        "Indices do elementos do vetor Inexistente: {indicesNaoEncontrados}')"
      ],
      "execution_count": 10,
      "outputs": [
        {
          "output_type": "stream",
          "text": [
            "Indices de todos elementos do proprio vetor: [0, 1, 2, 3, 4, 5, 6]\n",
            "Indices do elementos do vetor Inexistente: [-1, -1, -1, -1, -1, -1]\n"
          ],
          "name": "stdout"
        }
      ]
    },
    {
      "cell_type": "markdown",
      "metadata": {
        "id": "F9OSu_F916ZK",
        "colab_type": "text"
      },
      "source": [
        "**Pseudocódigo Busca Recursiva**\n",
        "\n",
        "> buscaSequencialRecursiva (x, v[0..n-1], n)\n",
        "1. se (n = 0) então\n",
        "2. retorna -1\n",
        "3. se (v[n - 1] = x) então\n",
        "4. retorna n - 1\n",
        "5. senão\n",
        "6. retorna buscaSequencial (x, v[], n - 1)\n",
        "\n",
        "![Busca](https://raw.githubusercontent.com/miguel91it/ipt-mestrado-estrutura-dados/master/buscaSequencialRecursiva.png)"
      ]
    },
    {
      "cell_type": "code",
      "metadata": {
        "id": "cApvuaeu4NP-",
        "colab_type": "code",
        "colab": {}
      },
      "source": [
        "def buscaSequencialRecursiva(x, vetor, n):\n",
        "\n",
        "  # condição de parada, para a recursão não ser chamada infinitamente\n",
        "  if n <= 0:\n",
        "    return -1\n",
        "\n",
        "  # a cada chamada da função, olha pro ultimo elemento, se for igual a x,\n",
        "  # então retorna imediatamente o índice desse último elemento\n",
        "  if vetor[n - 1] == x:\n",
        "    return n - 1\n",
        "\n",
        "  # se não encontrou ainda x no vetor, chama a função, passando o vetor inteiro\n",
        "  # porem com tamanho considerado para busca menor em uma unidade\n",
        "  else:\n",
        "    return buscaSequencialRecursiva(x, vetor, n - 1)\n",
        "  "
      ],
      "execution_count": 11,
      "outputs": []
    },
    {
      "cell_type": "code",
      "metadata": {
        "id": "fJiamwvf4W2B",
        "colab_type": "code",
        "colab": {
          "base_uri": "https://localhost:8080/",
          "height": 52
        },
        "outputId": "09c5f73c-e350-4a1e-cdbe-144543e82915"
      },
      "source": [
        "# cria vetor com inteiros quaisquer\n",
        "vetor = [21, 4, 67, 8, 57, 90, 31]\n",
        "\n",
        "n = len(vetor)\n",
        "\n",
        "# x = 32\n",
        "# indice = buscaSequencialRecursiva(x, vetor, n)\n",
        "# print(f'indice do valor {x}: {indice}')\n",
        "\n",
        "# cria um vetor com inteiros a serem pesquisador em 'vetor' e que não existem lá\n",
        "vetorInexistente = [-10, -5, 0, 1, 32, 66]\n",
        "\n",
        "# realiza busca de cada inteiro de vetor no proprio vetor (tem que retornar os índices, é um teste para dar certo)\n",
        "indices = [buscaSequencialRecursiva(x, vetor, n) for x in vetor]\n",
        "\n",
        "# realiza busca de cada inteiro não existente em vetor (é um teste para dar tudo -1)\n",
        "indicesNaoEncontrados = [buscaSequencialRecursiva(x, vetor, n) for x in vetorInexistente]\n",
        "\n",
        "print(f'Indices de todos elementos do proprio vetor: {indices}\\n\\\n",
        "Indices do elementos do vetor Inexistente: {indicesNaoEncontrados}')"
      ],
      "execution_count": 12,
      "outputs": [
        {
          "output_type": "stream",
          "text": [
            "Indices de todos elementos do proprio vetor: [0, 1, 2, 3, 4, 5, 6]\n",
            "Indices do elementos do vetor Inexistente: [-1, -1, -1, -1, -1, -1]\n"
          ],
          "name": "stdout"
        }
      ]
    },
    {
      "cell_type": "markdown",
      "metadata": {
        "id": "HCB6rRDhB88Y",
        "colab_type": "text"
      },
      "source": [
        "# Problema de Ordenação\n",
        "\n",
        "Dado um vetor v[0..n − 1] de inteiros, o problema de ordenação\n",
        "consiste em permutar/rearranjar os elementos de tal modo que eles\n",
        "fiquem em ordem crescente, isto é, de tal forma que tenhamos v[0] ≤\n",
        "v[1] ≤ · · · ≤ v[n − 1].\n",
        "\n",
        "O Bubble Sort percorre os n elementos do vetor e compara cada elemento com seu sucessor a fim de descobrir se estão ordenados.\n",
        "\n",
        "A cada iteração, começando do primeiro elemento em direção ao fim, o algoritmo encontra o maior elemento e o realoca ao final do vetor, levando em consideração que, a cada iteração, o final do vetor é diminuído de uma unidade. Assim, Na primeira iteração o maior elemento vai para o final do vetor. Na segunda iteração o segundo maior elemento vai para a penúltima posição. Assim segue até que o vetor inteiro esteja ordenado.\n",
        "\n",
        "**Pseudocódigo Bubble Sort**\n",
        "\n",
        "bubbleSort (v[0..n-1], n)\n",
        "1. para j = n - 1 até 1 faça\n",
        "2. para i = 0 até j - 1 faça\n",
        "3. se (v[i] > v[i + 1]) então\n",
        "4. aux = v[i]\n",
        "5. v[i] = v[i + 1]\n",
        "6. v[i + 1] = aux"
      ]
    },
    {
      "cell_type": "code",
      "metadata": {
        "id": "ibkwfVzACrcd",
        "colab_type": "code",
        "colab": {}
      },
      "source": [
        "def bubbleSort(vetor, n):\n",
        "  j = n - 1\n",
        "\n",
        "  while j >= 1:\n",
        "    \n",
        "    i = 0\n",
        "    \n",
        "    while i < j:\n",
        "\n",
        "      if vetor[i] > vetor[i + 1]:\n",
        "        aux = vetor[i]\n",
        "        vetor[i] = vetor[i + 1]\n",
        "        vetor[i + 1] = aux\n",
        "      \n",
        "      i = i + 1\n",
        "    j = j - 1\n",
        "\n",
        "  return vetor"
      ],
      "execution_count": 26,
      "outputs": []
    },
    {
      "cell_type": "code",
      "metadata": {
        "id": "sI4QNQMpMwEJ",
        "colab_type": "code",
        "colab": {
          "base_uri": "https://localhost:8080/",
          "height": 52
        },
        "outputId": "7664c1f2-8ffe-4279-821d-becde8e59f56"
      },
      "source": [
        "vetorOrdenado = [0, 1, 2, 3, 4, 5]\n",
        "\n",
        "vetorDesordenado = [32, -5, 0, 22, -35, 1]\n",
        "\n",
        "print(bubbleSort(vetorOrdenado, len(vetorOrdenado)))\n",
        "\n",
        "print(bubbleSort(vetorDesordenado, len(vetorDesordenado)))"
      ],
      "execution_count": 40,
      "outputs": [
        {
          "output_type": "stream",
          "text": [
            "[0, 1, 2, 3, 4, 5]\n",
            "[-35, -5, 0, 1, 22, 32]\n"
          ],
          "name": "stdout"
        }
      ]
    },
    {
      "cell_type": "markdown",
      "metadata": {
        "id": "wzV1coauTeTb",
        "colab_type": "text"
      },
      "source": [
        "**Pseudocódigo Bubble Sort Recursivo**\n",
        "\n",
        "bubbleSortRecursivo(v[0..n-1], n)\n"
      ]
    },
    {
      "cell_type": "code",
      "metadata": {
        "id": "wNEH0OHGTq9U",
        "colab_type": "code",
        "colab": {}
      },
      "source": [
        "def bubbleSortRecursivo(vetor, n):\n",
        "\n",
        "  if n == 1:\n",
        "    return vetor\n",
        "\n",
        "  i = 0\n",
        "\n",
        "  while i <= n - 2:\n",
        "\n",
        "    if vetor[i] > vetor[i + 1]:\n",
        "      aux = vetor[i]\n",
        "      vetor[i] = vetor[i + 1]\n",
        "      vetor[i + 1] = aux\n",
        "\n",
        "    i = i + 1\n",
        "\n",
        "  return bubbleSortRecursivo(vetor, n - 1)"
      ],
      "execution_count": 35,
      "outputs": []
    },
    {
      "cell_type": "code",
      "metadata": {
        "id": "bFDxo4jEWftW",
        "colab_type": "code",
        "colab": {
          "base_uri": "https://localhost:8080/",
          "height": 52
        },
        "outputId": "189c11a9-10b6-47f6-fa62-f82ef392b0d3"
      },
      "source": [
        "vetorOrdenado = [0, 1, 2, 3, 4, 5]\n",
        "\n",
        "vetorDesordenado = [32, -5, 0, 22, -35, 1]\n",
        "\n",
        "print(bubbleSort(vetorOrdenado, len(vetorOrdenado)))\n",
        "\n",
        "print(bubbleSortRecursivo(vetorDesordenado, len(vetorDesordenado)))"
      ],
      "execution_count": 39,
      "outputs": [
        {
          "output_type": "stream",
          "text": [
            "[0, 1, 2, 3, 4, 5]\n",
            "[-35, -5, 0, 1, 22, 32]\n"
          ],
          "name": "stdout"
        }
      ]
    },
    {
      "cell_type": "markdown",
      "metadata": {
        "id": "NYSjMPtAfEi8",
        "colab_type": "text"
      },
      "source": [
        "# Referências\n",
        "\n",
        "Algoritmos - Teoria e Prática. Thomas H. Cormen"
      ]
    }
  ]
}