{
  "nbformat": 4,
  "nbformat_minor": 0,
  "metadata": {
    "colab": {
      "name": "Untitled1.ipynb",
      "provenance": [],
      "collapsed_sections": [],
      "authorship_tag": "ABX9TyPcfOym7ILoLNjdj0voeDa5",
      "include_colab_link": true
    },
    "kernelspec": {
      "name": "python3",
      "display_name": "Python 3"
    }
  },
  "cells": [
    {
      "cell_type": "markdown",
      "metadata": {
        "id": "view-in-github",
        "colab_type": "text"
      },
      "source": [
        "<a href=\"https://colab.research.google.com/github/miguel91it/ipt-mestrado-estrutura-dados/blob/master/Untitled1.ipynb\" target=\"_parent\"><img src=\"https://colab.research.google.com/assets/colab-badge.svg\" alt=\"Open In Colab\"/></a>"
      ]
    },
    {
      "cell_type": "markdown",
      "metadata": {
        "id": "9YbtXH6WT2Ma",
        "colab_type": "text"
      },
      "source": [
        "*Material elaborado pelo aluno João Miguel M. F. Lima do Curso de Mestrado em Computação Aplicada do Instituto de Pesquisas Tecnológicas de São Paulo.*\n",
        "\n",
        "**# Algoritmos**\n",
        "\n",
        "Algoritmo é, de forma simplista, um procedimento computacional que recebe um valor ou conjunto de valores como entrada e produz um valor ou conjunto de valores como saída. Esse procedimento computacional é composto de etapas bem definidas e ordenadas que transformam informações de entrada em informações de saída. \n",
        "\n",
        "**# Estrutura de Dados**\n",
        "\n",
        "Uma estrutura de dados é um modo de armazenar e organizar dados com a finalidade de facilitar o acesso e modificações nesses dados.\n",
        "\n",
        "**# Problemas Difíceis P, NP, NP-completo, ...**\n",
        "\n",
        "Completar esse tópico posteriormente\n",
        "\n",
        "**# Limitações Técnicas para execução de Algoritmos**\n",
        "\n",
        "Tempo e Espaço são dois fatores que determinam a eficiência dos algoritmos.\n",
        "\n",
        "O algoritmo, quando executado, consome um certo tempo entre o início e o fim e consome, também, um determinado espaço para armazenar dados gerados ao longo das etapas.\n",
        "\n",
        "Por isso, essas são, além da corretude da saída, as duas principais variáveis que determinam a eficiência dos algoritmos.\n",
        "\n",
        "É necessário descobrir a complexidade temporal e de espaço consumido para determinar sua eficiência.\n"
      ]
    },
    {
      "cell_type": "code",
      "metadata": {
        "id": "O-mrVtiOTUXl",
        "colab_type": "code",
        "colab": {}
      },
      "source": [
        ""
      ],
      "execution_count": null,
      "outputs": []
    },
    {
      "cell_type": "code",
      "metadata": {
        "id": "WjSFXqZPUm0l",
        "colab_type": "code",
        "colab": {}
      },
      "source": [
        ""
      ],
      "execution_count": null,
      "outputs": []
    },
    {
      "cell_type": "markdown",
      "metadata": {
        "id": "NYSjMPtAfEi8",
        "colab_type": "text"
      },
      "source": [
        "**# Referências**\n",
        "\n",
        "Algoritmos - Teoria e Prática. Thomas H. Cormen"
      ]
    },
    {
      "cell_type": "code",
      "metadata": {
        "id": "GsJ3moz_fUf7",
        "colab_type": "code",
        "colab": {}
      },
      "source": [
        ""
      ],
      "execution_count": null,
      "outputs": []
    }
  ]
}